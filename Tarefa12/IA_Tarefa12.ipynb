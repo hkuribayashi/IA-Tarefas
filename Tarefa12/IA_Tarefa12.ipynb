{
  "nbformat": 4,
  "nbformat_minor": 0,
  "metadata": {
    "colab": {
      "provenance": []
    },
    "kernelspec": {
      "name": "python3",
      "display_name": "Python 3"
    },
    "language_info": {
      "name": "python"
    }
  },
  "cells": [
    {
      "cell_type": "markdown",
      "source": [
        "# Como temos feito até o momento"
      ],
      "metadata": {
        "id": "tzmFzw-Hulhl"
      }
    },
    {
      "cell_type": "code",
      "source": [
        "# Passo 1: Import de Bibliotecas\n",
        "import numpy as np\n",
        "from sklearn.model_selection import train_test_split\n",
        "from sklearn.datasets import load_iris\n",
        "from sklearn.ensemble import RandomForestClassifier"
      ],
      "metadata": {
        "id": "06YfqoTMulN6"
      },
      "execution_count": null,
      "outputs": []
    },
    {
      "cell_type": "code",
      "source": [
        "# Passo 2: Importando o Dataset Iris\n",
        "X, y = load_iris(as_frame=True, return_X_y=True)"
      ],
      "metadata": {
        "id": "oF3m3ON2u4i9"
      },
      "execution_count": null,
      "outputs": []
    },
    {
      "cell_type": "code",
      "source": [
        "# Passo 3: Divisão entre Treino e Teste\n",
        "X_train, X_test, y_train, y_test = train_test_split(X, y, test_size=0.3, random_state=0)"
      ],
      "metadata": {
        "id": "E6y8QbcgvTOc"
      },
      "execution_count": null,
      "outputs": []
    },
    {
      "cell_type": "code",
      "source": [
        "# Passo 4: Criação do modelo e treinamento\n",
        "rf = RandomForestClassifier(n_estimators=100, random_state=42).fit(X_train, y_train)"
      ],
      "metadata": {
        "id": "IQYVwu2bvbfm"
      },
      "execution_count": null,
      "outputs": []
    },
    {
      "cell_type": "code",
      "source": [
        "# Passo 5: Resultados\n",
        "rf.score(X_test, y_test)"
      ],
      "metadata": {
        "colab": {
          "base_uri": "https://localhost:8080/"
        },
        "id": "gneQksMsvjlC",
        "outputId": "11342049-a204-4d86-c199-6c795221368c"
      },
      "execution_count": null,
      "outputs": [
        {
          "output_type": "execute_result",
          "data": {
            "text/plain": [
              "0.9777777777777777"
            ]
          },
          "metadata": {},
          "execution_count": 20
        }
      ]
    },
    {
      "cell_type": "markdown",
      "source": [
        "# Agora com Validação Cruzada"
      ],
      "metadata": {
        "id": "LSBGW8mdvqq5"
      }
    },
    {
      "cell_type": "code",
      "source": [
        "# Passo 6: Importando Bibliotecas\n",
        "from sklearn.model_selection import cross_val_score"
      ],
      "metadata": {
        "id": "LKQeVunSvubd"
      },
      "execution_count": null,
      "outputs": []
    },
    {
      "cell_type": "code",
      "source": [
        "# Passo 7: Aplicando a função cross_val_score\n",
        "rf = RandomForestClassifier(n_estimators=100, random_state=42).fit(X_train, y_train)\n",
        "scores = cross_val_score(rf, X_train, y_train, cv=5)"
      ],
      "metadata": {
        "id": "UO5Q-naPwZSp"
      },
      "execution_count": null,
      "outputs": []
    },
    {
      "cell_type": "code",
      "source": [
        "# Passo 8: Obtendo as avaliações\n",
        "scores"
      ],
      "metadata": {
        "colab": {
          "base_uri": "https://localhost:8080/"
        },
        "id": "CNPP_l1FyvYx",
        "outputId": "d4c7beb1-de86-4642-f1b3-ee880b28a98b"
      },
      "execution_count": null,
      "outputs": [
        {
          "output_type": "execute_result",
          "data": {
            "text/plain": [
              "array([0.85714286, 1.        , 1.        , 0.9047619 , 0.95238095])"
            ]
          },
          "metadata": {},
          "execution_count": 22
        }
      ]
    },
    {
      "cell_type": "code",
      "source": [
        "# Passo 9: Média e Devio Padrão\n",
        "print(f'{scores.mean():0.2f} acurácia com um desvio padrão de {scores.std():0.2f}')"
      ],
      "metadata": {
        "colab": {
          "base_uri": "https://localhost:8080/"
        },
        "id": "PY4imz2wzN7-",
        "outputId": "9582d6ac-e2be-42f6-fbfb-b47b2c6545e8"
      },
      "execution_count": null,
      "outputs": [
        {
          "output_type": "stream",
          "name": "stdout",
          "text": [
            "0.94 acurácia com um desvio padrão de 0.06\n"
          ]
        }
      ]
    },
    {
      "cell_type": "markdown",
      "source": [
        "**Multiplas Métricas**\n",
        "\n",
        "Para avaliar um modelo usando múltiplas métricas com cross_val_score, você precisa utilizar cross_validate em vez de cross_val_score.\n",
        "\n",
        "A função cross_validate permite passar uma lista de métricas no parâmetro scoring, além de retornar os resultados para cada métrica especificada."
      ],
      "metadata": {
        "id": "isP4X0dK9FQN"
      }
    },
    {
      "cell_type": "code",
      "source": [
        "# Passo 10: Importando novas Bibliotecas\n",
        "from sklearn.model_selection import cross_validate\n",
        "from sklearn.model_selection import StratifiedKFold"
      ],
      "metadata": {
        "id": "LEaB4v5q9J_x"
      },
      "execution_count": null,
      "outputs": []
    },
    {
      "cell_type": "code",
      "source": [
        "# Passo 11: Definindo outras métricas\n",
        "scoring = ['precision_macro', 'recall_macro', 'accuracy']\n",
        "skf = StratifiedKFold(n_splits=5)\n",
        "scores = cross_validate(rf, X_train, y_train, scoring=scoring, cv=skf)"
      ],
      "metadata": {
        "id": "RE0a-jxf9sDo"
      },
      "execution_count": null,
      "outputs": []
    },
    {
      "cell_type": "code",
      "source": [
        "# Passo 12: Imprimindo resultados\n",
        "scores"
      ],
      "metadata": {
        "colab": {
          "base_uri": "https://localhost:8080/"
        },
        "id": "gPI9-vndBGdO",
        "outputId": "9e873dbe-cf3a-4cc4-835d-9d7497282ba8"
      },
      "execution_count": null,
      "outputs": [
        {
          "output_type": "execute_result",
          "data": {
            "text/plain": [
              "{'fit_time': array([0.25945616, 0.26245141, 0.25837207, 0.26324797, 0.25227904]),\n",
              " 'score_time': array([0.02922916, 0.02804065, 0.02498055, 0.02589655, 0.02929592]),\n",
              " 'test_precision_macro': array([0.9       , 1.        , 1.        , 0.90277778, 0.96296296]),\n",
              " 'test_recall_macro': array([0.875     , 1.        , 1.        , 0.90277778, 0.94444444]),\n",
              " 'test_accuracy': array([0.85714286, 1.        , 1.        , 0.9047619 , 0.95238095])}"
            ]
          },
          "metadata": {},
          "execution_count": 28
        }
      ]
    },
    {
      "cell_type": "markdown",
      "source": [
        "# Cross-validation + search para tuning de hiperparâmetros"
      ],
      "metadata": {
        "id": "K8NhcJWVAv7R"
      }
    },
    {
      "cell_type": "code",
      "source": [
        "# Passo 13: Importando KFold\n",
        "from sklearn.model_selection import KFold\n",
        "from sklearn.model_selection import GridSearchCV"
      ],
      "metadata": {
        "id": "lNp8F1LtA0E5"
      },
      "execution_count": null,
      "outputs": []
    },
    {
      "cell_type": "code",
      "source": [
        "# Passo 14: Instanciando KFold e GridSearchCV\n",
        "\n",
        "# Grade de parâmetros para busca\n",
        "param_grid = {\n",
        "    'n_estimators': [100, 120, 130],          # Número de árvores\n",
        "    'max_depth': [None, 10, 20, 30],          # Profundidade máxima da árvore\n",
        "    'min_samples_split': [2, 5, 10],          # Número mínimo de amostras para dividir um nó\n",
        "    'min_samples_leaf': [1, 2, 4],            # Número mínimo de amostras em uma folha\n",
        "    'criterion': ['gini', 'entropy']          # Critério para medir a qualidade da divisão\n",
        "}\n",
        "\n",
        "# Configuração do GridSearchCV\n",
        "grid_search = GridSearchCV(estimator=rf, param_grid=param_grid, scoring='f1_macro', cv=5)\n",
        "\n",
        "# Executando o ajuste com a busca dos melhores parâmetros\n",
        "grid_search.fit(X, y)\n",
        "\n",
        "# Obter as melhores configurações\n",
        "best_params = grid_search.best_params_"
      ],
      "metadata": {
        "id": "Recl_DvPBQhP"
      },
      "execution_count": null,
      "outputs": []
    },
    {
      "cell_type": "code",
      "source": [
        "# Passo 15: Exibindo os melhores parâmetros encontrados\n",
        "print(\"Melhores parâmetros:\", grid_search.best_params_)\n",
        "print(\"Melhor f1_macro:\", grid_search.best_score_)"
      ],
      "metadata": {
        "colab": {
          "base_uri": "https://localhost:8080/"
        },
        "id": "tpXrIPBACzEs",
        "outputId": "019f06a3-9756-4aa0-cbec-6e45ba208f3d"
      },
      "execution_count": null,
      "outputs": [
        {
          "output_type": "stream",
          "name": "stdout",
          "text": [
            "Melhores parâmetros: {'criterion': 'gini', 'max_depth': None, 'min_samples_leaf': 1, 'min_samples_split': 2, 'n_estimators': 100}\n",
            "Melhor f1_macro: 0.9664818612187034\n"
          ]
        }
      ]
    }
  ]
}