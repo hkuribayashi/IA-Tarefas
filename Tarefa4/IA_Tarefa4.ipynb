{
  "nbformat": 4,
  "nbformat_minor": 0,
  "metadata": {
    "colab": {
      "provenance": []
    },
    "kernelspec": {
      "name": "python3",
      "display_name": "Python 3"
    },
    "language_info": {
      "name": "python"
    }
  },
  "cells": [
    {
      "cell_type": "code",
      "execution_count": 13,
      "metadata": {
        "id": "eW5cMpcbwmFb"
      },
      "outputs": [],
      "source": [
        "from sklearn.datasets import load_iris\n",
        "from sklearn.model_selection import train_test_split"
      ]
    },
    {
      "cell_type": "code",
      "source": [
        "X, y = load_iris(return_X_y=True, as_frame=True)\n",
        "\n",
        "X_treino, X_teste, y_treino, y_teste = train_test_split(X, y, test_size=0.2, random_state=42)"
      ],
      "metadata": {
        "id": "ON_f1eKjw2IT"
      },
      "execution_count": 14,
      "outputs": []
    },
    {
      "cell_type": "code",
      "source": [
        "from sklearn.neighbors import KNeighborsClassifier\n",
        "from sklearn.model_selection import GridSearchCV\n",
        "\n",
        "# Defina o intervalo de valores de k para testar\n",
        "param_grid = {'n_neighbors': range(1, 21)}\n",
        "\n",
        "# Crie o modelo KNN\n",
        "knn = KNeighborsClassifier()\n",
        "\n",
        "# Use GridSearchCV para encontrar o melhor valor de k\n",
        "grid_search = GridSearchCV(knn, param_grid, cv=5, scoring='accuracy')\n",
        "grid_search.fit(X_treino, y_treino)\n",
        "\n",
        "# Melhor valor de k\n",
        "best_k = grid_search.best_params_['n_neighbors']\n",
        "print(\"Melhor valor de k:\", best_k)"
      ],
      "metadata": {
        "colab": {
          "base_uri": "https://localhost:8080/"
        },
        "id": "MVRQV8wsx5wW",
        "outputId": "15508db0-f325-422f-ed5a-15746eab2184"
      },
      "execution_count": 21,
      "outputs": [
        {
          "output_type": "stream",
          "name": "stdout",
          "text": [
            "Melhor valor de k: 3\n"
          ]
        }
      ]
    },
    {
      "cell_type": "code",
      "source": [
        "from sklearn.neighbors import KNeighborsClassifier\n",
        "\n",
        "# Melhor valor de k obtido pelo GridSearchCV\n",
        "best_k = grid_search.best_params_['n_neighbors']\n",
        "\n",
        "# Crie o modelo KNN com o valor de k otimizado\n",
        "knn_best = KNeighborsClassifier(n_neighbors=best_k)\n",
        "\n",
        "# Treine o modelo no conjunto de treino\n",
        "knn_best.fit(X_teste, y_teste)\n",
        "\n",
        "# Faça previsões com o modelo otimizado\n",
        "y_pred = knn_best.predict(X_teste)"
      ],
      "metadata": {
        "id": "7hV8zBc3yOTo"
      },
      "execution_count": 22,
      "outputs": []
    },
    {
      "cell_type": "code",
      "source": [
        "from sklearn.metrics import accuracy_score\n",
        "from sklearn.metrics import precision_score\n",
        "from sklearn.metrics import recall_score\n",
        "from sklearn.metrics import f1_score\n",
        "from sklearn.metrics import confusion_matrix"
      ],
      "metadata": {
        "id": "3eBsONA4yos9"
      },
      "execution_count": 23,
      "outputs": []
    },
    {
      "cell_type": "code",
      "source": [
        "print(accuracy_score(y_teste, y_pred))\n",
        "print(precision_score(y_teste, y_pred, average='macro'))\n",
        "print(recall_score(y_teste, y_pred, average='macro'))\n",
        "print(f1_score(y_teste, y_pred, average='macro'))\n",
        "print(confusion_matrix(y_teste, y_pred))"
      ],
      "metadata": {
        "colab": {
          "base_uri": "https://localhost:8080/"
        },
        "id": "MqEK3PNgy0rS",
        "outputId": "89645ff5-c483-436e-e47b-33beb54a5808"
      },
      "execution_count": 24,
      "outputs": [
        {
          "output_type": "stream",
          "name": "stdout",
          "text": [
            "0.9666666666666667\n",
            "0.9666666666666667\n",
            "0.9696969696969697\n",
            "0.9665831244778612\n",
            "[[10  0  0]\n",
            " [ 0  9  0]\n",
            " [ 0  1 10]]\n"
          ]
        }
      ]
    }
  ]
}